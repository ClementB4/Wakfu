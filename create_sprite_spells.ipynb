{
 "cells": [
  {
   "cell_type": "code",
   "execution_count": 1,
   "metadata": {},
   "outputs": [],
   "source": [
    "import pandas as pd"
   ]
  },
  {
   "cell_type": "code",
   "execution_count": 2,
   "metadata": {},
   "outputs": [
    {
     "name": "stdout",
     "output_type": "stream",
     "text": [
      "<class 'pandas.core.frame.DataFrame'>\n",
      "RangeIndex: 552 entries, 0 to 551\n",
      "Data columns (total 10 columns):\n",
      "_id           552 non-null object\n",
      "classe        552 non-null object\n",
      "spell         552 non-null object\n",
      "pa            552 non-null object\n",
      "pm            552 non-null object\n",
      "wakfu         552 non-null object\n",
      "po            552 non-null object\n",
      "text          552 non-null object\n",
      "spell_type    552 non-null object\n",
      "sprite        552 non-null object\n",
      "dtypes: object(10)\n",
      "memory usage: 43.2+ KB\n"
     ]
    },
    {
     "data": {
      "text/html": [
       "<div>\n",
       "<style scoped>\n",
       "    .dataframe tbody tr th:only-of-type {\n",
       "        vertical-align: middle;\n",
       "    }\n",
       "\n",
       "    .dataframe tbody tr th {\n",
       "        vertical-align: top;\n",
       "    }\n",
       "\n",
       "    .dataframe thead th {\n",
       "        text-align: right;\n",
       "    }\n",
       "</style>\n",
       "<table border=\"1\" class=\"dataframe\">\n",
       "  <thead>\n",
       "    <tr style=\"text-align: right;\">\n",
       "      <th></th>\n",
       "      <th>_id</th>\n",
       "      <th>classe</th>\n",
       "      <th>spell</th>\n",
       "      <th>pa</th>\n",
       "      <th>pm</th>\n",
       "      <th>wakfu</th>\n",
       "      <th>po</th>\n",
       "      <th>text</th>\n",
       "      <th>spell_type</th>\n",
       "      <th>sprite</th>\n",
       "    </tr>\n",
       "  </thead>\n",
       "  <tbody>\n",
       "    <tr>\n",
       "      <th>0</th>\n",
       "      <td>5f048972b024eeb5d8a745b6</td>\n",
       "      <td>feca</td>\n",
       "      <td>Goutte</td>\n",
       "      <td>2</td>\n",
       "      <td>0</td>\n",
       "      <td>0</td>\n",
       "      <td>1 - 3</td>\n",
       "      <td>Inflige des dommages Eau. Lancé sur un allié, ...</td>\n",
       "      <td>élementaire</td>\n",
       "      <td>https://static.ankama.com/wakfu/portal/game/sp...</td>\n",
       "    </tr>\n",
       "    <tr>\n",
       "      <th>1</th>\n",
       "      <td>5f048975b024eeb5d8a745b7</td>\n",
       "      <td>feca</td>\n",
       "      <td>Fécalistofedes</td>\n",
       "      <td>5</td>\n",
       "      <td>0</td>\n",
       "      <td>0</td>\n",
       "      <td>2 - 3</td>\n",
       "      <td>Inflige des dommages Feu. Ce sort coûteux a un...</td>\n",
       "      <td>élementaire</td>\n",
       "      <td>https://static.ankama.com/wakfu/portal/game/sp...</td>\n",
       "    </tr>\n",
       "    <tr>\n",
       "      <th>2</th>\n",
       "      <td>5f048978b024eeb5d8a745b8</td>\n",
       "      <td>feca</td>\n",
       "      <td>Météorite</td>\n",
       "      <td>3</td>\n",
       "      <td>0</td>\n",
       "      <td>0</td>\n",
       "      <td>1 - 3</td>\n",
       "      <td>Inflige des dommages Feu. Lancé sur un allié, ...</td>\n",
       "      <td>élementaire</td>\n",
       "      <td>https://static.ankama.com/wakfu/portal/game/sp...</td>\n",
       "    </tr>\n",
       "    <tr>\n",
       "      <th>3</th>\n",
       "      <td>5f04897bb024eeb5d8a745b9</td>\n",
       "      <td>feca</td>\n",
       "      <td>Attaque Naturelle</td>\n",
       "      <td>3</td>\n",
       "      <td>0</td>\n",
       "      <td>0</td>\n",
       "      <td>1 - 4</td>\n",
       "      <td>Inflige des dommages Feu. Lancé sur un ennemi,...</td>\n",
       "      <td>élementaire</td>\n",
       "      <td>https://static.ankama.com/wakfu/portal/game/sp...</td>\n",
       "    </tr>\n",
       "    <tr>\n",
       "      <th>4</th>\n",
       "      <td>5f04897fb024eeb5d8a745ba</td>\n",
       "      <td>feca</td>\n",
       "      <td>Magma</td>\n",
       "      <td>2</td>\n",
       "      <td>0</td>\n",
       "      <td>0</td>\n",
       "      <td>1 - 4</td>\n",
       "      <td>Inflige des dommages Feu. Lancé sur un allié, ...</td>\n",
       "      <td>élementaire</td>\n",
       "      <td>https://static.ankama.com/wakfu/portal/game/sp...</td>\n",
       "    </tr>\n",
       "  </tbody>\n",
       "</table>\n",
       "</div>"
      ],
      "text/plain": [
       "                        _id classe              spell pa pm wakfu     po  \\\n",
       "0  5f048972b024eeb5d8a745b6   feca             Goutte  2  0     0  1 - 3   \n",
       "1  5f048975b024eeb5d8a745b7   feca     Fécalistofedes  5  0     0  2 - 3   \n",
       "2  5f048978b024eeb5d8a745b8   feca          Météorite  3  0     0  1 - 3   \n",
       "3  5f04897bb024eeb5d8a745b9   feca  Attaque Naturelle  3  0     0  1 - 4   \n",
       "4  5f04897fb024eeb5d8a745ba   feca              Magma  2  0     0  1 - 4   \n",
       "\n",
       "                                                text   spell_type  \\\n",
       "0  Inflige des dommages Eau. Lancé sur un allié, ...  élementaire   \n",
       "1  Inflige des dommages Feu. Ce sort coûteux a un...  élementaire   \n",
       "2  Inflige des dommages Feu. Lancé sur un allié, ...  élementaire   \n",
       "3  Inflige des dommages Feu. Lancé sur un ennemi,...  élementaire   \n",
       "4  Inflige des dommages Feu. Lancé sur un allié, ...  élementaire   \n",
       "\n",
       "                                              sprite  \n",
       "0  https://static.ankama.com/wakfu/portal/game/sp...  \n",
       "1  https://static.ankama.com/wakfu/portal/game/sp...  \n",
       "2  https://static.ankama.com/wakfu/portal/game/sp...  \n",
       "3  https://static.ankama.com/wakfu/portal/game/sp...  \n",
       "4  https://static.ankama.com/wakfu/portal/game/sp...  "
      ]
     },
     "execution_count": 2,
     "metadata": {},
     "output_type": "execute_result"
    }
   ],
   "source": [
    "data = pd.read_csv('spells.csv')\n",
    "data.info()\n",
    "data.head()"
   ]
  },
  {
   "cell_type": "code",
   "execution_count": 3,
   "metadata": {},
   "outputs": [],
   "source": [
    "from skimage.io import imread, imsave"
   ]
  },
  {
   "cell_type": "code",
   "execution_count": 4,
   "metadata": {},
   "outputs": [],
   "source": [
    "sprites_url = data['sprite']\n",
    "spells_name = data['spell']"
   ]
  },
  {
   "cell_type": "code",
   "execution_count": 5,
   "metadata": {},
   "outputs": [],
   "source": [
    "i = 0\n",
    "for sprite_url in sprites_url:\n",
    "    img = imread(sprite_url)\n",
    "    imsave('sprites_spells/%s.png'%spells_name[i], img)\n",
    "    i+=1"
   ]
  }
 ],
 "metadata": {
  "kernelspec": {
   "display_name": "Python 3",
   "language": "python",
   "name": "python3"
  },
  "language_info": {
   "codemirror_mode": {
    "name": "ipython",
    "version": 3
   },
   "file_extension": ".py",
   "mimetype": "text/x-python",
   "name": "python",
   "nbconvert_exporter": "python",
   "pygments_lexer": "ipython3",
   "version": "3.7.4"
  }
 },
 "nbformat": 4,
 "nbformat_minor": 2
}
