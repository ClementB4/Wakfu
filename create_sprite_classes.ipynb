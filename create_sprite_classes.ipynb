{
 "cells": [
  {
   "cell_type": "code",
   "execution_count": 1,
   "metadata": {},
   "outputs": [],
   "source": [
    "from skimage.io import imread, imsave"
   ]
  },
  {
   "cell_type": "code",
   "execution_count": 2,
   "metadata": {},
   "outputs": [],
   "source": [
    "img = imread('sprites_classes/all_in_one/icon_wakfu.png')"
   ]
  },
  {
   "cell_type": "code",
   "execution_count": 3,
   "metadata": {},
   "outputs": [
    {
     "data": {
      "text/plain": [
       "(1456, 160, 4)"
      ]
     },
     "execution_count": 3,
     "metadata": {},
     "output_type": "execute_result"
    }
   ],
   "source": [
    "img.shape"
   ]
  },
  {
   "cell_type": "code",
   "execution_count": 4,
   "metadata": {},
   "outputs": [
    {
     "name": "stdout",
     "output_type": "stream",
     "text": [
      "x shape : 80.0\n",
      "y shape : 80.88888888888889\n"
     ]
    }
   ],
   "source": [
    "print('x shape : %s\\ny shape : %s'%(img.shape[1] / 2, img.shape[0]/18))"
   ]
  },
  {
   "cell_type": "markdown",
   "metadata": {},
   "source": [
    "One black row of pixels between each image"
   ]
  },
  {
   "cell_type": "code",
   "execution_count": 5,
   "metadata": {},
   "outputs": [],
   "source": [
    "classes = [\n",
    "    'feca', 'sadida', 'sacrieur', \n",
    "    'pandawa', 'roublard', 'zobal', \n",
    "    'steamer', 'osamodas', 'enutrof', \n",
    "    'sram', 'xelor', 'ecaflip',\n",
    "    'eniripsa', 'iop', 'cra',\n",
    "    'eliotrope', 'huppermage', 'ouginak'\n",
    "]\n",
    "for i in range(1, 19):\n",
    "    y = 81\n",
    "    new_img = img[y*(i-1):y*i, 0:81, :]\n",
    "    imsave('sprites_classes/%s.png'%(classes[i-1]), new_img)"
   ]
  },
  {
   "cell_type": "code",
   "execution_count": null,
   "metadata": {},
   "outputs": [],
   "source": []
  }
 ],
 "metadata": {
  "kernelspec": {
   "display_name": "Python 3",
   "language": "python",
   "name": "python3"
  },
  "language_info": {
   "codemirror_mode": {
    "name": "ipython",
    "version": 3
   },
   "file_extension": ".py",
   "mimetype": "text/x-python",
   "name": "python",
   "nbconvert_exporter": "python",
   "pygments_lexer": "ipython3",
   "version": "3.7.4"
  }
 },
 "nbformat": 4,
 "nbformat_minor": 2
}
